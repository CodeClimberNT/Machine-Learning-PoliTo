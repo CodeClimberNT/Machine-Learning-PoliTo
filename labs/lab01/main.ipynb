{
 "cells": [
  {
   "cell_type": "markdown",
   "metadata": {},
   "source": [
    "# Lab 01"
   ]
  },
  {
   "cell_type": "markdown",
   "metadata": {},
   "source": [
    "## Exercise 1"
   ]
  },
  {
   "cell_type": "markdown",
   "metadata": {},
   "source": [
    "### Library and Filename"
   ]
  },
  {
   "cell_type": "code",
   "execution_count": 12,
   "metadata": {},
   "outputs": [
    {
     "name": "stdout",
     "output_type": "stream",
     "text": [
      "done\n"
     ]
    }
   ],
   "source": [
    "import numpy as np \n",
    "\n",
    "score_filename = './score.txt' \n",
    "\n",
    "print('done')"
   ]
  },
  {
   "cell_type": "code",
   "execution_count": 14,
   "metadata": {},
   "outputs": [
    {
     "name": "stdout",
     "output_type": "stream",
     "text": [
      "final ranking:\n",
      "['1: Donald Duck - Score: 28.7', '2: Daffy Duck - Score: 27.3', '3: Mickey Mouse - Score: 27.2']\n",
      "\n",
      "Best Country:\n",
      "ITA - Total score: 55.9\n"
     ]
    }
   ],
   "source": [
    "def entry_to_score(entry):\n",
    "    scores = entry.split(' ')[3:]\n",
    "    return [float(i) for i in scores]\n",
    "\n",
    "def entry_to_athlet(entry):\n",
    "    return entry.split(' ')[0] + ' ' + entry.split(' ')[1]\n",
    "\n",
    "def entry_to_country(entry):\n",
    "    return entry.split(' ')[2]\n",
    "\n",
    "def calc_score(score):\n",
    "    # remove lowest and highest score and sum up the rest\n",
    "    score = np.array(score)\n",
    "    score = np.sort(score)\n",
    "    score = score[1:-1]\n",
    "    return np.sum(score).tolist()\n",
    "\n",
    "def convert_to_final_rank_format(gymnastic, score, position):\n",
    "    name = gymnastic.split(' ')[0]\n",
    "    surname = gymnastic.split(' ')[1]\n",
    "    return f'{position}: {name} {surname} - Score: {score:.1f}'\n",
    "\n",
    "def convert_to_country_rank_format(country, score):\n",
    "    return f'{country} - Total score: {score:.1f}'\n",
    "\n",
    "score = [] \n",
    "athlets = {}\n",
    "countries = {}\n",
    "\n",
    "with open(score_filename, 'r') as f:\n",
    "    scores = f.readlines()\n",
    "\n",
    "for score in scores:\n",
    "    athlet = entry_to_athlet(score)\n",
    "    athlet_score = calc_score(entry_to_score(score))\n",
    "    athlets[athlet] = athlet_score\n",
    "    country_name = entry_to_country(score)\n",
    "    countries[country_name] = countries.get(country_name, 0) + athlet_score\n",
    "\n",
    "athlets = {k: v for k, v in sorted(athlets.items(), key=lambda item: item[1], reverse=True)}\n",
    "top_3 = [convert_to_final_rank_format(k, v, i+1) for i, (k, v) in enumerate(athlets.items())][:3]\n",
    "top_country_and_score = [convert_to_country_rank_format(k, v) for k, v in countries.items()][0]\n",
    "\n",
    "print('final ranking:')\n",
    "print(top_3)\n",
    "print('')\n",
    "print('Best Country:')\n",
    "print(top_country_and_score)\n"
   ]
  },
  {
   "cell_type": "code",
   "execution_count": null,
   "metadata": {},
   "outputs": [],
   "source": []
  }
 ],
 "metadata": {
  "kernelspec": {
   "display_name": "Python 3",
   "language": "python",
   "name": "python3"
  },
  "language_info": {
   "codemirror_mode": {
    "name": "ipython",
    "version": 3
   },
   "file_extension": ".py",
   "mimetype": "text/x-python",
   "name": "python",
   "nbconvert_exporter": "python",
   "pygments_lexer": "ipython3",
   "version": "3.11.8"
  }
 },
 "nbformat": 4,
 "nbformat_minor": 2
}
